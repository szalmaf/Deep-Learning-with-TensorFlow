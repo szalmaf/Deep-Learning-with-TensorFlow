{
 "cells": [
  {
   "cell_type": "markdown",
   "metadata": {
    "colab_type": "text",
    "id": "kR-4eNdK6lYS"
   },
   "source": [
    "Deep Learning\n",
    "=============\n",
    "\n",
    "Assignment 3\n",
    "------------\n",
    "\n",
    "Previously in `2_fullyconnected.ipynb`, you trained a logistic regression and a neural network model.\n",
    "\n",
    "The goal of this assignment is to explore regularization techniques."
   ]
  },
  {
   "cell_type": "code",
   "execution_count": 29,
   "metadata": {
    "cellView": "both",
    "colab": {
     "autoexec": {
      "startup": false,
      "wait_interval": 0
     }
    },
    "colab_type": "code",
    "collapsed": true,
    "id": "JLpLa8Jt7Vu4"
   },
   "outputs": [],
   "source": [
    "# These are all the modules we'll be using later. Make sure you can import them\n",
    "# before proceeding further.\n",
    "from __future__ import print_function\n",
    "import numpy as np\n",
    "import tensorflow as tf\n",
    "from six.moves import cPickle as pickle"
   ]
  },
  {
   "cell_type": "markdown",
   "metadata": {
    "colab_type": "text",
    "id": "1HrCK6e17WzV"
   },
   "source": [
    "First reload the data we generated in _notmist.ipynb_."
   ]
  },
  {
   "cell_type": "code",
   "execution_count": 30,
   "metadata": {
    "cellView": "both",
    "colab": {
     "autoexec": {
      "startup": false,
      "wait_interval": 0
     },
     "output_extras": [
      {
       "item_id": 1
      }
     ]
    },
    "colab_type": "code",
    "collapsed": false,
    "executionInfo": {
     "elapsed": 11777,
     "status": "ok",
     "timestamp": 1449849322348,
     "user": {
      "color": "",
      "displayName": "",
      "isAnonymous": false,
      "isMe": true,
      "permissionId": "",
      "photoUrl": "",
      "sessionId": "0",
      "userId": ""
     },
     "user_tz": 480
    },
    "id": "y3-cj1bpmuxc",
    "outputId": "e03576f1-ebbe-4838-c388-f1777bcc9873"
   },
   "outputs": [
    {
     "name": "stdout",
     "output_type": "stream",
     "text": [
      "Training set (200000, 28, 28) (200000,)\n",
      "Validation set (10000, 28, 28) (10000,)\n",
      "Test set (10000, 28, 28) (10000,)\n"
     ]
    }
   ],
   "source": [
    "pickle_file = 'notMNIST.pickle'\n",
    "\n",
    "with open(pickle_file, 'rb') as f:\n",
    "  save = pickle.load(f)\n",
    "  train_dataset = save['train_dataset']\n",
    "  train_labels = save['train_labels']\n",
    "  valid_dataset = save['valid_dataset']\n",
    "  valid_labels = save['valid_labels']\n",
    "  test_dataset = save['test_dataset']\n",
    "  test_labels = save['test_labels']\n",
    "  del save  # hint to help gc free up memory\n",
    "  print('Training set', train_dataset.shape, train_labels.shape)\n",
    "  print('Validation set', valid_dataset.shape, valid_labels.shape)\n",
    "  print('Test set', test_dataset.shape, test_labels.shape)"
   ]
  },
  {
   "cell_type": "markdown",
   "metadata": {
    "colab_type": "text",
    "id": "L7aHrm6nGDMB"
   },
   "source": [
    "Reformat into a shape that's more adapted to the models we're going to train:\n",
    "- data as a flat matrix,\n",
    "- labels as float 1-hot encodings."
   ]
  },
  {
   "cell_type": "code",
   "execution_count": 31,
   "metadata": {
    "cellView": "both",
    "colab": {
     "autoexec": {
      "startup": false,
      "wait_interval": 0
     },
     "output_extras": [
      {
       "item_id": 1
      }
     ]
    },
    "colab_type": "code",
    "collapsed": false,
    "executionInfo": {
     "elapsed": 11728,
     "status": "ok",
     "timestamp": 1449849322356,
     "user": {
      "color": "",
      "displayName": "",
      "isAnonymous": false,
      "isMe": true,
      "permissionId": "",
      "photoUrl": "",
      "sessionId": "0",
      "userId": ""
     },
     "user_tz": 480
    },
    "id": "IRSyYiIIGIzS",
    "outputId": "3f8996ee-3574-4f44-c953-5c8a04636582"
   },
   "outputs": [
    {
     "name": "stdout",
     "output_type": "stream",
     "text": [
      "Training set (200000, 784) (200000, 10)\n",
      "Validation set (10000, 784) (10000, 10)\n",
      "Test set (10000, 784) (10000, 10)\n"
     ]
    }
   ],
   "source": [
    "image_size = 28\n",
    "num_labels = 10\n",
    "\n",
    "def reformat(dataset, labels):\n",
    "  dataset = dataset.reshape((-1, image_size * image_size)).astype(np.float32)\n",
    "  # Map 2 to [0.0, 1.0, 0.0 ...], 3 to [0.0, 0.0, 1.0 ...]\n",
    "  labels = (np.arange(num_labels) == labels[:,None]).astype(np.float32)\n",
    "  return dataset, labels\n",
    "train_dataset, train_labels = reformat(train_dataset, train_labels)\n",
    "valid_dataset, valid_labels = reformat(valid_dataset, valid_labels)\n",
    "test_dataset, test_labels = reformat(test_dataset, test_labels)\n",
    "print('Training set', train_dataset.shape, train_labels.shape)\n",
    "print('Validation set', valid_dataset.shape, valid_labels.shape)\n",
    "print('Test set', test_dataset.shape, test_labels.shape)"
   ]
  },
  {
   "cell_type": "code",
   "execution_count": 32,
   "metadata": {
    "cellView": "both",
    "colab": {
     "autoexec": {
      "startup": false,
      "wait_interval": 0
     }
    },
    "colab_type": "code",
    "collapsed": true,
    "id": "RajPLaL_ZW6w"
   },
   "outputs": [],
   "source": [
    "def accuracy(predictions, labels):\n",
    "  return (100.0 * np.sum(np.argmax(predictions, 1) == np.argmax(labels, 1))\n",
    "          / predictions.shape[0])"
   ]
  },
  {
   "cell_type": "markdown",
   "metadata": {
    "colab_type": "text",
    "id": "sgLbUAQ1CW-1"
   },
   "source": [
    "---\n",
    "Problem 1\n",
    "---------\n",
    "\n",
    "Introduce and tune L2 regularization for both logistic and neural network models. Remember that L2 amounts to adding a penalty on the norm of the weights to the loss. In TensorFlow, you can compute the L2 loss for a tensor `t` using `nn.l2_loss(t)`. The right amount of regularization should improve your validation / test accuracy.\n",
    "\n",
    "---"
   ]
  },
  {
   "cell_type": "code",
   "execution_count": 38,
   "metadata": {
    "collapsed": true
   },
   "outputs": [],
   "source": [
    "def weight_variable(shape):\n",
    "  initial = tf.truncated_normal(shape, stddev=0.1)\n",
    "  return tf.Variable(initial)\n",
    "\n",
    "def bias_variable(shape):\n",
    "  initial = tf.constant(0.1, shape=shape)\n",
    "  return tf.Variable(initial)"
   ]
  },
  {
   "cell_type": "code",
   "execution_count": 101,
   "metadata": {
    "collapsed": true
   },
   "outputs": [],
   "source": [
    "batch_size = 128\n",
    "nodes = 1024\n",
    "reg_coeff = 6*1e-2\n",
    "reg_coeff = 6*1e-3\n",
    "#reg_coeff = 6*1e-4\n",
    "#reg_coeff = 6*1e-5\n",
    "#reg_coeff = 6*1e-6\n",
    "reg_coeff = 6*1e-20\n",
    "\n",
    "\n",
    "graph = tf.Graph()\n",
    "with graph.as_default():\n",
    "\n",
    "  # Input data. For the training data, we use a placeholder that will be fed\n",
    "  # at run time with a training minibatch.\n",
    "  tf_train_dataset = tf.placeholder(tf.float32,\n",
    "                                    shape=(batch_size, image_size * image_size))\n",
    "  tf_train_labels = tf.placeholder(tf.float32, shape=(batch_size, num_labels))\n",
    "  tf_valid_dataset = tf.constant(valid_dataset)\n",
    "  tf_test_dataset = tf.constant(test_dataset)\n",
    "  \n",
    "  # Variables.\n",
    "  w1 = weight_variable([image_size * image_size, nodes])\n",
    "  b1 = bias_variable([nodes])\n",
    "  w2 = weight_variable([nodes, num_labels])\n",
    "  b2 = bias_variable([num_labels])\n",
    "    \n",
    "  # Hidden Layer\n",
    "  h1 = tf.nn.relu(tf.matmul(tf_train_dataset, w1) + b1)\n",
    "\n",
    "  # L2 regularization for the fully connected parameters.\n",
    "  regularizers = (tf.nn.l2_loss(w2) +\n",
    "              tf.nn.l2_loss(w1))\n",
    "  \n",
    "  # Training computation.\n",
    "  logits = tf.matmul(h1, w2) + b2\n",
    "  loss = tf.reduce_mean(\n",
    "    tf.nn.softmax_cross_entropy_with_logits(logits, tf_train_labels))\n",
    "    \n",
    "  # Add the regularization term to the loss.\n",
    "  loss += reg_coeff * regularizers\n",
    "    \n",
    "  # Optimizer.\n",
    "  optimizer = tf.train.GradientDescentOptimizer(0.5).minimize(loss)\n",
    "  \n",
    "  # Predictions for the training, validation, and test data.\n",
    "  train_prediction = tf.nn.softmax(logits)\n",
    "  valid_prediction = tf.nn.softmax(\n",
    "    tf.matmul(tf.nn.relu(tf.matmul(tf_valid_dataset, w1) + b1), w2) + b2)\n",
    "  test_prediction = tf.nn.softmax(\n",
    "    tf.matmul(tf.nn.relu(tf.matmul(tf_test_dataset, w1) + b1), w2) + b2)"
   ]
  },
  {
   "cell_type": "code",
   "execution_count": 102,
   "metadata": {
    "collapsed": false
   },
   "outputs": [
    {
     "name": "stdout",
     "output_type": "stream",
     "text": [
      "Initialized\n",
      "Minibatch loss at step 0: 4.380601\n",
      "Minibatch accuracy: 10.2%\n",
      "Validation accuracy: 34.4%\n",
      "Minibatch loss at step 500: 0.548480\n",
      "Minibatch accuracy: 82.8%\n",
      "Validation accuracy: 85.0%\n",
      "Minibatch loss at step 1000: 0.637532\n",
      "Minibatch accuracy: 85.9%\n",
      "Validation accuracy: 83.4%\n",
      "Minibatch loss at step 1500: 0.685136\n",
      "Minibatch accuracy: 82.8%\n",
      "Validation accuracy: 85.5%\n",
      "Minibatch loss at step 2000: 0.527091\n",
      "Minibatch accuracy: 86.7%\n",
      "Validation accuracy: 87.4%\n",
      "Minibatch loss at step 2500: 0.311658\n",
      "Minibatch accuracy: 93.8%\n",
      "Validation accuracy: 87.9%\n",
      "Minibatch loss at step 3000: 0.291516\n",
      "Minibatch accuracy: 89.8%\n",
      "Validation accuracy: 88.1%\n",
      "Test accuracy: 93.8%\n"
     ]
    }
   ],
   "source": [
    "num_steps = 3001\n",
    "\n",
    "with tf.Session(graph=graph) as session:\n",
    "  tf.initialize_all_variables().run()\n",
    "  print(\"Initialized\")\n",
    "  for step in range(num_steps):\n",
    "    # Pick an offset within the training data, which has been randomized.\n",
    "    # Note: we could use better randomization across epochs.\n",
    "    offset = (step * batch_size) % (train_labels.shape[0] - batch_size)\n",
    "    # Generate a minibatch.\n",
    "    batch_data = train_dataset[offset:(offset + batch_size),:]\n",
    "    batch_labels = train_labels[offset:(offset + batch_size),:]\n",
    "    # Prepare a dictionary telling the session where to feed the minibatch.\n",
    "    # The key of the dictionary is the placeholder node of the graph to be fed,\n",
    "    # and the value is the numpy array to feed to it.\n",
    "    feed_dict = {tf_train_dataset : batch_data, tf_train_labels : batch_labels}\n",
    "    _, l, predictions = session.run(\n",
    "      [optimizer, loss, train_prediction], feed_dict=feed_dict)\n",
    "    if (step % 500 == 0):\n",
    "      print(\"Minibatch loss at step %d: %f\" % (step, l))\n",
    "      print(\"Minibatch accuracy: %.1f%%\" % accuracy(predictions, batch_labels))\n",
    "      print(\"Validation accuracy: %.1f%%\" % accuracy(\n",
    "        valid_prediction.eval(), valid_labels))\n",
    "  print(\"Test accuracy: %.1f%%\" % accuracy(test_prediction.eval(), test_labels))"
   ]
  },
  {
   "cell_type": "markdown",
   "metadata": {
    "colab_type": "text",
    "id": "na8xX2yHZzNF"
   },
   "source": [
    "---\n",
    "Problem 2\n",
    "---------\n",
    "Let's demonstrate an extreme case of overfitting. Restrict your training data to just a few batches. What happens?\n",
    "\n",
    "---"
   ]
  },
  {
   "cell_type": "code",
   "execution_count": 99,
   "metadata": {
    "collapsed": true
   },
   "outputs": [],
   "source": [
    "batch_size = 8\n",
    "nodes = 1024\n",
    "reg_coeff = 6*1e-2\n",
    "reg_coeff = 6*1e-3\n",
    "#reg_coeff = 6*1e-4\n",
    "#reg_coeff = 6*1e-5\n",
    "#reg_coeff = 6*1e-6\n",
    "reg_coeff = 6*1e-20\n",
    "\n",
    "\n",
    "graph = tf.Graph()\n",
    "with graph.as_default():\n",
    "\n",
    "  # Input data. For the training data, we use a placeholder that will be fed\n",
    "  # at run time with a training minibatch.\n",
    "  tf_train_dataset = tf.placeholder(tf.float32,\n",
    "                                    shape=(batch_size, image_size * image_size))\n",
    "  tf_train_labels = tf.placeholder(tf.float32, shape=(batch_size, num_labels))\n",
    "  tf_valid_dataset = tf.constant(valid_dataset)\n",
    "  tf_test_dataset = tf.constant(test_dataset)\n",
    "  \n",
    "  # Variables.\n",
    "  w1 = weight_variable([image_size * image_size, nodes])\n",
    "  b1 = bias_variable([nodes])\n",
    "  w2 = weight_variable([nodes, num_labels])\n",
    "  b2 = bias_variable([num_labels])\n",
    "    \n",
    "  # Hidden Layer\n",
    "  h1 = tf.nn.relu(tf.matmul(tf_train_dataset, w1) + b1)\n",
    "\n",
    "  # L2 regularization for the fully connected parameters.\n",
    "  regularizers = (tf.nn.l2_loss(w2) +\n",
    "              tf.nn.l2_loss(w1))\n",
    "  \n",
    "  # Training computation.\n",
    "  logits = tf.matmul(h1, w2) + b2\n",
    "  loss = tf.reduce_mean(\n",
    "    tf.nn.softmax_cross_entropy_with_logits(logits, tf_train_labels))\n",
    "    \n",
    "  # Add the regularization term to the loss.\n",
    "  loss += reg_coeff * regularizers\n",
    "    \n",
    "  # Optimizer.\n",
    "  optimizer = tf.train.GradientDescentOptimizer(0.5).minimize(loss)\n",
    "  \n",
    "  # Predictions for the training, validation, and test data.\n",
    "  train_prediction = tf.nn.softmax(logits)\n",
    "  valid_prediction = tf.nn.softmax(\n",
    "    tf.matmul(tf.nn.relu(tf.matmul(tf_valid_dataset, w1) + b1), w2) + b2)\n",
    "  test_prediction = tf.nn.softmax(\n",
    "    tf.matmul(tf.nn.relu(tf.matmul(tf_test_dataset, w1) + b1), w2) + b2)"
   ]
  },
  {
   "cell_type": "code",
   "execution_count": 100,
   "metadata": {
    "collapsed": false
   },
   "outputs": [
    {
     "name": "stdout",
     "output_type": "stream",
     "text": [
      "Initialized\n",
      "Minibatch loss at step 0: 4.226016\n",
      "Minibatch accuracy: 12.5%\n",
      "Validation accuracy: 11.1%\n",
      "Minibatch loss at step 500: 362312.937500\n",
      "Minibatch accuracy: 50.0%\n",
      "Validation accuracy: 45.4%\n",
      "Minibatch loss at step 1000: 659009664.000000\n",
      "Minibatch accuracy: 37.5%\n",
      "Validation accuracy: 39.7%\n",
      "Minibatch loss at step 1500: 4470232055808.000000\n",
      "Minibatch accuracy: 50.0%\n",
      "Validation accuracy: 41.1%\n",
      "Minibatch loss at step 2000: 23520224460406784.000000\n",
      "Minibatch accuracy: 25.0%\n",
      "Validation accuracy: 45.8%\n",
      "Minibatch loss at step 2500: 47605897995445338112.000000\n",
      "Minibatch accuracy: 62.5%\n",
      "Validation accuracy: 46.0%\n",
      "Minibatch loss at step 3000: 337476877789037928120320.000000\n",
      "Minibatch accuracy: 50.0%\n",
      "Validation accuracy: 43.5%\n",
      "Test accuracy: 46.8%\n"
     ]
    }
   ],
   "source": [
    "with tf.Session(graph=graph) as session:\n",
    "  tf.initialize_all_variables().run()\n",
    "  print(\"Initialized\")\n",
    "  for step in range(num_steps):\n",
    "    # Pick an offset within the training data, which has been randomized.\n",
    "    # Restrict offset to only three values\n",
    "    offset = (step%100)*batch_size\n",
    "    # Generate a minibatch.\n",
    "    batch_data = train_dataset[offset:(offset + batch_size),:]\n",
    "    batch_labels = train_labels[offset:(offset + batch_size),:]\n",
    "    # Prepare a dictionary telling the session where to feed the minibatch.\n",
    "    # The key of the dictionary is the placeholder node of the graph to be fed,\n",
    "    # and the value is the numpy array to feed to it.\n",
    "    feed_dict = {tf_train_dataset : batch_data, tf_train_labels : batch_labels}\n",
    "    _, l, predictions = session.run(\n",
    "      [optimizer, loss, train_prediction], feed_dict=feed_dict)\n",
    "    if (step % 500 == 0):\n",
    "      print(\"Minibatch loss at step %d: %f\" % (step, l))\n",
    "      print(\"Minibatch accuracy: %.1f%%\" % accuracy(predictions, batch_labels))\n",
    "      print(\"Validation accuracy: %.1f%%\" % accuracy(\n",
    "        valid_prediction.eval(), valid_labels))\n",
    "  print(\"Test accuracy: %.1f%%\" % accuracy(test_prediction.eval(), test_labels))"
   ]
  },
  {
   "cell_type": "markdown",
   "metadata": {
    "colab_type": "text",
    "id": "ww3SCBUdlkRc"
   },
   "source": [
    "---\n",
    "Problem 3\n",
    "---------\n",
    "Introduce Dropout on the hidden layer of the neural network. Remember: Dropout should only be introduced during training, not evaluation, otherwise your evaluation results would be stochastic as well. TensorFlow provides `nn.dropout()` for that, but you have to make sure it's only inserted during training.\n",
    "\n",
    "What happens to our extreme overfitting case?\n",
    "\n",
    "---"
   ]
  },
  {
   "cell_type": "code",
   "execution_count": 91,
   "metadata": {
    "collapsed": true
   },
   "outputs": [],
   "source": [
    "batch_size = 8\n",
    "nodes = 1024\n",
    "reg_coeff = 6*1e-20\n",
    "\n",
    "graph = tf.Graph()\n",
    "with graph.as_default():\n",
    "\n",
    "  # Input data. For the training data, we use a placeholder that will be fed\n",
    "  # at run time with a training minibatch.\n",
    "  tf_train_dataset = tf.placeholder(tf.float32,\n",
    "                                    shape=(None, image_size * image_size))\n",
    "  tf_train_labels = tf.placeholder(tf.float32, shape=(None, num_labels))\n",
    "  tf_valid_dataset = tf.constant(valid_dataset)\n",
    "  tf_test_dataset = tf.constant(test_dataset)\n",
    "  \n",
    "  # Variables.\n",
    "  w1 = weight_variable([image_size * image_size, nodes])\n",
    "  b1 = bias_variable([nodes])\n",
    "  w2 = weight_variable([nodes, num_labels])\n",
    "  b2 = bias_variable([num_labels])\n",
    "  \n",
    "  # Hidden Layer\n",
    "  h1 = tf.nn.relu(tf.matmul(tf_train_dataset, w1) + b1)\n",
    "\n",
    "  # Dropout\n",
    "  #keep_prob = tf.placeholder(tf.float32)\n",
    "  h_drop = tf.nn.dropout(h1, 0.5)\n",
    "  \n",
    "  # Training computation.\n",
    "  logits = tf.matmul(h_drop, w2) + b2\n",
    "  loss = tf.reduce_mean(\n",
    "    tf.nn.softmax_cross_entropy_with_logits(logits, tf_train_labels))\n",
    "    \n",
    "  # Optimizer.\n",
    "  optimizer = tf.train.GradientDescentOptimizer(0.5).minimize(loss)\n",
    "  \n",
    "  # Predictions for the training, validation, and test data.\n",
    "  train_prediction = tf.nn.softmax(logits)\n",
    "  valid_prediction = tf.nn.softmax(\n",
    "    tf.matmul(tf.nn.relu(tf.matmul(tf_valid_dataset, w1) + b1), w2) + b2)\n",
    "  test_prediction = tf.nn.softmax(\n",
    "    tf.matmul(tf.nn.relu(tf.matmul(tf_test_dataset, w1) + b1), w2) + b2)"
   ]
  },
  {
   "cell_type": "code",
   "execution_count": 92,
   "metadata": {
    "collapsed": false
   },
   "outputs": [
    {
     "name": "stdout",
     "output_type": "stream",
     "text": [
      "Initialized\n",
      "Minibatch loss at step 0: 3.866057\n",
      "Minibatch accuracy: 25.0%\n",
      "Validation accuracy: 16.4%\n",
      "Minibatch loss at step 500: nan\n",
      "Minibatch accuracy: 37.5%\n",
      "Validation accuracy: 10.0%\n",
      "Minibatch loss at step 1000: nan\n",
      "Minibatch accuracy: 37.5%\n",
      "Validation accuracy: 10.0%\n",
      "Minibatch loss at step 1500: nan\n",
      "Minibatch accuracy: 37.5%\n",
      "Validation accuracy: 10.0%\n",
      "Minibatch loss at step 2000: nan\n",
      "Minibatch accuracy: 37.5%\n",
      "Validation accuracy: 10.0%\n",
      "Minibatch loss at step 2500: nan\n",
      "Minibatch accuracy: 37.5%\n",
      "Validation accuracy: 10.0%\n",
      "Minibatch loss at step 3000: nan\n",
      "Minibatch accuracy: 37.5%\n",
      "Validation accuracy: 10.0%\n",
      "Test accuracy: 10.0%\n"
     ]
    }
   ],
   "source": [
    "batch_size = 8\n",
    "\n",
    "with tf.Session(graph=graph) as session:\n",
    "  tf.initialize_all_variables().run()\n",
    "  print(\"Initialized\")\n",
    "  for step in range(num_steps):\n",
    "    # Pick an offset within the training data, which has been randomized.\n",
    "    # Restrict offset to only three values\n",
    "    offset = (step%100)*batch_size\n",
    "    # Generate a minibatch.\n",
    "    batch_data = train_dataset[offset:(offset + batch_size),:]\n",
    "    batch_labels = train_labels[offset:(offset + batch_size),:]\n",
    "    # Prepare a dictionary telling the session where to feed the minibatch.\n",
    "    # The key of the dictionary is the placeholder node of the graph to be fed,\n",
    "    # and the value is the numpy array to feed to it.\n",
    "    feed_dict = {tf_train_dataset : batch_data, tf_train_labels : batch_labels}\n",
    "    _, l, predictions = session.run(\n",
    "      [optimizer, loss, train_prediction], feed_dict=feed_dict)\n",
    "    if (step % 500 == 0):\n",
    "      print(\"Minibatch loss at step %d: %f\" % (step, l))\n",
    "      print(\"Minibatch accuracy: %.1f%%\" % accuracy(predictions, batch_labels))\n",
    "      print(\"Validation accuracy: %.1f%%\" % accuracy(\n",
    "        valid_prediction.eval(), valid_labels))\n",
    "  print(\"Test accuracy: %.1f%%\" % accuracy(test_prediction.eval(), test_labels))"
   ]
  },
  {
   "cell_type": "markdown",
   "metadata": {
    "colab_type": "text",
    "id": "-b1hTz3VWZjw"
   },
   "source": [
    "---\n",
    "Problem 4\n",
    "---------\n",
    "\n",
    "Try to get the best performance you can using a multi-layer model! The best reported test accuracy using a deep network is [97.1%](http://yaroslavvb.blogspot.com/2011/09/notmnist-dataset.html?showComment=1391023266211#c8758720086795711595).\n",
    "\n",
    "One avenue you can explore is to add multiple layers.\n",
    "\n",
    "Another one is to use learning rate decay:\n",
    "\n",
    "    global_step = tf.Variable(0)  # count the number of steps taken.\n",
    "    learning_rate = tf.train.exponential_decay(0.5, global_step, ...)\n",
    "    optimizer = tf.train.GradientDescentOptimizer(learning_rate).minimize(loss, global_step=global_step)\n",
    " \n",
    " ---\n"
   ]
  },
  {
   "cell_type": "code",
   "execution_count": 104,
   "metadata": {
    "collapsed": true
   },
   "outputs": [],
   "source": [
    "batch_size = 128\n",
    "nodes1 = 1024\n",
    "nodes2 = 1024\n",
    "reg_coeff = 8*1e-5\n",
    "\n",
    "graph = tf.Graph()\n",
    "with graph.as_default():\n",
    "  # Input data. For the training data, we use a placeholder that will be fed\n",
    "  # at run time with a training minibatch.\n",
    "  tf_train_dataset = tf.placeholder(tf.float32,\n",
    "                                    shape=(None, image_size * image_size))\n",
    "  tf_train_labels = tf.placeholder(tf.float32, shape=(None, num_labels))\n",
    "  \n",
    "  # Variables.\n",
    "  w1 = weight_variable([image_size * image_size, nodes1])\n",
    "  b1 = bias_variable([nodes1])\n",
    "  w2 = weight_variable([nodes1, nodes2])\n",
    "  b2 = bias_variable([nodes2])\n",
    "  w3 = weight_variable([nodes2, num_labels])\n",
    "  b3 = bias_variable([num_labels])\n",
    "  prob = tf.placeholder(tf.float32)\n",
    "    \n",
    "  # Hidden Layer1\n",
    "  h1 = tf.nn.relu(tf.matmul(tf_train_dataset, w1) + b1)\n",
    "  # Dropout1\n",
    "  h_d1 = tf.nn.dropout(h1, prob)\n",
    "\n",
    "  # Hidden Layer2\n",
    "  h2 = tf.nn.relu(tf.matmul(h_d1, w2) + b2)\n",
    "  # Dropout2\n",
    "  h_d2 = tf.nn.dropout(h2, prob)   \n",
    "    \n",
    "  # L2 regularization for the fully connected parameters.\n",
    "  regularizers = (tf.nn.l2_loss(w2) + tf.nn.l2_loss(w1) +\n",
    "    tf.nn.l2_loss(w3))\n",
    "  \n",
    "  # Training computation.\n",
    "  logits = tf.matmul(h_d2, w3) + b3\n",
    "  loss = tf.reduce_mean(\n",
    "    tf.nn.softmax_cross_entropy_with_logits(logits, tf_train_labels))\n",
    "    \n",
    "  # Add the regularization term to the loss.\n",
    "  loss += reg_coeff * regularizers\n",
    "    \n",
    "  # Optimizer.\n",
    "  global_step = tf.Variable(0)  # count the number of steps taken.\n",
    "  learning_rate = tf.train.exponential_decay(0.5, global_step, 100000, 0.96, staircase=True)\n",
    "  optimizer = tf.train.GradientDescentOptimizer(learning_rate).minimize(loss, global_step=global_step)\n",
    "\n",
    "  # Predictions for the training, validation, and test data.\n",
    "  train_prediction = tf.nn.softmax(logits)\n",
    "  correct_prediction = tf.equal(tf.argmax(train_prediction,1), tf.argmax(tf_train_labels,1))\n",
    "  accurate = tf.reduce_mean(tf.cast(correct_prediction, \"float\"))*100"
   ]
  },
  {
   "cell_type": "code",
   "execution_count": 105,
   "metadata": {
    "collapsed": false
   },
   "outputs": [
    {
     "name": "stdout",
     "output_type": "stream",
     "text": [
      "Initialized\n",
      "Minibatch loss at step 0: 13.983371\n",
      "Minibatch accuracy: 20.3%\n",
      "Validation accuracy: 17.0%\n",
      "Minibatch loss at step 500: 1.551496\n",
      "Minibatch accuracy: 78.1%\n",
      "Validation accuracy: 79.2%\n",
      "Minibatch loss at step 1000: 1.408400\n",
      "Minibatch accuracy: 84.4%\n",
      "Validation accuracy: 81.6%\n",
      "Minibatch loss at step 1500: 1.587572\n",
      "Minibatch accuracy: 77.3%\n",
      "Validation accuracy: 81.9%\n",
      "Minibatch loss at step 2000: 1.236686\n",
      "Minibatch accuracy: 82.8%\n",
      "Validation accuracy: 83.2%\n",
      "Minibatch loss at step 2500: 1.047308\n",
      "Minibatch accuracy: 91.4%\n",
      "Validation accuracy: 82.9%\n",
      "Test accuracy: 90.0%\n"
     ]
    }
   ],
   "source": [
    "num_steps = 2501\n",
    "\n",
    "with tf.Session(graph=graph) as session:\n",
    "  tf.initialize_all_variables().run()\n",
    "  print(\"Initialized\")\n",
    "  for step in range(num_steps):\n",
    "    # Pick an offset within the training data, which has been randomized.\n",
    "    # Note: we could use better randomization across epochs.\n",
    "    offset = (step * batch_size) % (train_labels.shape[0] - batch_size)\n",
    "    #print(step)\n",
    "    # Generate a minibatch.\n",
    "    batch_data = train_dataset[offset:(offset + batch_size),:]\n",
    "    batch_labels = train_labels[offset:(offset + batch_size),:]\n",
    "    # Prepare a dictionary telling the session where to feed the minibatch.\n",
    "    # The key of the dictionary is the placeholder node of the graph to be fed,\n",
    "    # and the value is the numpy array to feed to it.\n",
    "    feed_dict = {tf_train_dataset : batch_data, tf_train_labels : batch_labels, prob: 0.5}\n",
    "    _, l, _ = session.run(\n",
    "      [optimizer, loss, train_prediction], feed_dict=feed_dict)\n",
    "    if (step % 500 == 0):\n",
    "      print(\"Minibatch loss at step %d: %f\" % (step, l))\n",
    "      print(\"Minibatch accuracy: %.1f%%\" % accurate.eval(feed_dict = {\n",
    "                    tf_train_dataset : batch_data, tf_train_labels : batch_labels, prob: 1}))\n",
    "      print(\"Validation accuracy: %.1f%%\" % accurate.eval(feed_dict = {\n",
    "                tf_train_dataset : valid_dataset, tf_train_labels : valid_labels, prob: 1}))\n",
    "  print(\"Test accuracy: %.1f%%\" % accurate.eval(feed_dict = {\n",
    "            tf_train_dataset : test_dataset, tf_train_labels : test_labels, prob: 1}))"
   ]
  },
  {
   "cell_type": "code",
   "execution_count": null,
   "metadata": {
    "collapsed": true
   },
   "outputs": [],
   "source": [
    "batch_size = 128\n",
    "nodes1 = 1024\n",
    "nodes2 = 1024\n",
    "reg_coeff = 8*1e-5\n",
    "\n",
    "Initialized\n",
    "Minibatch loss at step 0: 16.019089\n",
    "Minibatch accuracy: 29.7%\n",
    "Validation accuracy: 23.5%\n",
    "Minibatch loss at step 500: 1.542730\n",
    "Minibatch accuracy: 79.7%\n",
    "Validation accuracy: 79.6%\n",
    "Minibatch loss at step 1000: 1.298317\n",
    "Minibatch accuracy: 86.7%\n",
    "Validation accuracy: 82.2%\n",
    "Minibatch loss at step 1500: 1.367436\n",
    "Minibatch accuracy: 81.2%\n",
    "Validation accuracy: 82.7%\n",
    "Minibatch loss at step 2000: 1.195550\n",
    "Minibatch accuracy: 83.6%\n",
    "Validation accuracy: 84.1%\n",
    "Minibatch loss at step 2500: 0.990642\n",
    "Minibatch accuracy: 93.8%\n",
    "Validation accuracy: 84.2%\n",
    "Minibatch loss at step 3000: 0.951867\n",
    "Minibatch accuracy: 90.6%\n",
    "Validation accuracy: 84.1%\n",
    "Test accuracy: 90.9%\n",
    "    \n",
    "    \n",
    "\n",
    "batch_size = 128\n",
    "nodes1 = 1024\n",
    "nodes2 = 1024\n",
    "reg_coeff = 8*1e-6\n",
    "\n",
    "Initialized\n",
    "Minibatch loss at step 0: 12.488296\n",
    "Minibatch accuracy: 21.9%\n",
    "Validation accuracy: 14.6%\n",
    "Minibatch loss at step 500: 1.008491\n",
    "Minibatch accuracy: 74.2%\n",
    "Validation accuracy: 77.3%\n",
    "Minibatch loss at step 1000: 0.717178\n",
    "Minibatch accuracy: 84.4%\n",
    "Validation accuracy: 80.6%\n",
    "Minibatch loss at step 1500: 0.868731\n",
    "Minibatch accuracy: 79.7%\n",
    "Validation accuracy: 81.2%\n",
    "Minibatch loss at step 2000: 0.889091\n",
    "Minibatch accuracy: 77.3%\n",
    "Validation accuracy: 81.3%\n",
    "Minibatch loss at step 2500: 0.605024\n",
    "Minibatch accuracy: 90.6%\n",
    "Validation accuracy: 81.6%\n",
    "Minibatch loss at step 3000: 0.518629\n",
    "Minibatch accuracy: 90.6%\n",
    "Validation accuracy: 82.7%\n",
    "Test accuracy: 89.6%"
   ]
  }
 ],
 "metadata": {
  "colab": {
   "default_view": {},
   "name": "3_regularization.ipynb",
   "provenance": [],
   "version": "0.3.2",
   "views": {}
  },
  "kernelspec": {
   "display_name": "Python 3",
   "language": "python",
   "name": "python3"
  },
  "language_info": {
   "codemirror_mode": {
    "name": "ipython",
    "version": 3
   },
   "file_extension": ".py",
   "mimetype": "text/x-python",
   "name": "python",
   "nbconvert_exporter": "python",
   "pygments_lexer": "ipython3",
   "version": "3.5.1"
  }
 },
 "nbformat": 4,
 "nbformat_minor": 0
}
