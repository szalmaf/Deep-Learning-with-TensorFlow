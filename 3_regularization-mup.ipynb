{
 "cells": [
  {
   "cell_type": "markdown",
   "metadata": {
    "colab_type": "text",
    "id": "kR-4eNdK6lYS"
   },
   "source": [
    "Deep Learning\n",
    "=============\n",
    "\n",
    "Assignment 3\n",
    "------------\n",
    "\n",
    "Previously in `2_fullyconnected.ipynb`, you trained a logistic regression and a neural network model.\n",
    "\n",
    "The goal of this assignment is to explore regularization techniques."
   ]
  },
  {
   "cell_type": "code",
   "execution_count": 1,
   "metadata": {
    "cellView": "both",
    "colab": {
     "autoexec": {
      "startup": false,
      "wait_interval": 0
     }
    },
    "colab_type": "code",
    "collapsed": true,
    "id": "JLpLa8Jt7Vu4"
   },
   "outputs": [],
   "source": [
    "# These are all the modules we'll be using later. Make sure you can import them\n",
    "# before proceeding further.\n",
    "from __future__ import print_function\n",
    "import numpy as np\n",
    "import tensorflow as tf\n",
    "from six.moves import cPickle as pickle"
   ]
  },
  {
   "cell_type": "markdown",
   "metadata": {
    "colab_type": "text",
    "id": "1HrCK6e17WzV"
   },
   "source": [
    "First reload the data we generated in _notmist.ipynb_."
   ]
  },
  {
   "cell_type": "code",
   "execution_count": 2,
   "metadata": {
    "cellView": "both",
    "colab": {
     "autoexec": {
      "startup": false,
      "wait_interval": 0
     },
     "output_extras": [
      {
       "item_id": 1
      }
     ]
    },
    "colab_type": "code",
    "collapsed": false,
    "executionInfo": {
     "elapsed": 11777,
     "status": "ok",
     "timestamp": 1449849322348,
     "user": {
      "color": "",
      "displayName": "",
      "isAnonymous": false,
      "isMe": true,
      "permissionId": "",
      "photoUrl": "",
      "sessionId": "0",
      "userId": ""
     },
     "user_tz": 480
    },
    "id": "y3-cj1bpmuxc",
    "outputId": "e03576f1-ebbe-4838-c388-f1777bcc9873"
   },
   "outputs": [
    {
     "name": "stdout",
     "output_type": "stream",
     "text": [
      "Training set (200000, 28, 28) (200000,)\n",
      "Validation set (10000, 28, 28) (10000,)\n",
      "Test set (10000, 28, 28) (10000,)\n"
     ]
    }
   ],
   "source": [
    "pickle_file = 'notMNIST.pickle'\n",
    "\n",
    "with open(pickle_file, 'rb') as f:\n",
    "  save = pickle.load(f)\n",
    "  train_dataset = save['train_dataset']\n",
    "  train_labels = save['train_labels']\n",
    "  valid_dataset = save['valid_dataset']\n",
    "  valid_labels = save['valid_labels']\n",
    "  test_dataset = save['test_dataset']\n",
    "  test_labels = save['test_labels']\n",
    "  del save  # hint to help gc free up memory\n",
    "  print('Training set', train_dataset.shape, train_labels.shape)\n",
    "  print('Validation set', valid_dataset.shape, valid_labels.shape)\n",
    "  print('Test set', test_dataset.shape, test_labels.shape)"
   ]
  },
  {
   "cell_type": "markdown",
   "metadata": {
    "colab_type": "text",
    "id": "L7aHrm6nGDMB"
   },
   "source": [
    "Reformat into a shape that's more adapted to the models we're going to train:\n",
    "- data as a flat matrix,\n",
    "- labels as float 1-hot encodings."
   ]
  },
  {
   "cell_type": "code",
   "execution_count": 3,
   "metadata": {
    "cellView": "both",
    "colab": {
     "autoexec": {
      "startup": false,
      "wait_interval": 0
     },
     "output_extras": [
      {
       "item_id": 1
      }
     ]
    },
    "colab_type": "code",
    "collapsed": false,
    "executionInfo": {
     "elapsed": 11728,
     "status": "ok",
     "timestamp": 1449849322356,
     "user": {
      "color": "",
      "displayName": "",
      "isAnonymous": false,
      "isMe": true,
      "permissionId": "",
      "photoUrl": "",
      "sessionId": "0",
      "userId": ""
     },
     "user_tz": 480
    },
    "id": "IRSyYiIIGIzS",
    "outputId": "3f8996ee-3574-4f44-c953-5c8a04636582"
   },
   "outputs": [
    {
     "name": "stdout",
     "output_type": "stream",
     "text": [
      "Training set (200000, 784) (200000, 10)\n",
      "Validation set (10000, 784) (10000, 10)\n",
      "Test set (10000, 784) (10000, 10)\n"
     ]
    }
   ],
   "source": [
    "image_size = 28\n",
    "num_labels = 10\n",
    "\n",
    "def reformat(dataset, labels):\n",
    "  dataset = dataset.reshape((-1, image_size * image_size)).astype(np.float32)\n",
    "  # Map 2 to [0.0, 1.0, 0.0 ...], 3 to [0.0, 0.0, 1.0 ...]\n",
    "  labels = (np.arange(num_labels) == labels[:,None]).astype(np.float32)\n",
    "  return dataset, labels\n",
    "train_dataset, train_labels = reformat(train_dataset, train_labels)\n",
    "valid_dataset, valid_labels = reformat(valid_dataset, valid_labels)\n",
    "test_dataset, test_labels = reformat(test_dataset, test_labels)\n",
    "print('Training set', train_dataset.shape, train_labels.shape)\n",
    "print('Validation set', valid_dataset.shape, valid_labels.shape)\n",
    "print('Test set', test_dataset.shape, test_labels.shape)"
   ]
  },
  {
   "cell_type": "code",
   "execution_count": 9,
   "metadata": {
    "cellView": "both",
    "colab": {
     "autoexec": {
      "startup": false,
      "wait_interval": 0
     }
    },
    "colab_type": "code",
    "collapsed": true,
    "id": "RajPLaL_ZW6w"
   },
   "outputs": [],
   "source": [
    "def accuracy(predictions, labels):\n",
    "  return (100.0 * np.sum(np.argmax(predictions, 1) == np.argmax(labels, 1))\n",
    "          / predictions.shape[0])"
   ]
  },
  {
   "cell_type": "markdown",
   "metadata": {
    "colab_type": "text",
    "id": "sgLbUAQ1CW-1"
   },
   "source": [
    "---\n",
    "Problem 1\n",
    "---------\n",
    "\n",
    "Introduce and tune L2 regularization for both logistic and neural network models. Remember that L2 amounts to adding a penalty on the norm of the weights to the loss. In TensorFlow, you can compute the L2 loss for a tensor `t` using `nn.l2_loss(t)`. The right amount of regularization should improve your validation / test accuracy.\n",
    "\n",
    "---"
   ]
  },
  {
   "cell_type": "code",
   "execution_count": 10,
   "metadata": {
    "collapsed": true
   },
   "outputs": [],
   "source": [
    "def weight_variable(shape):\n",
    "    initial = tf.truncated_normal(shape, stddev=0.1)\n",
    "    return tf.Variable(initial)\n",
    "\n",
    "def bias_variable(shape):\n",
    "    initial = tf.constant(0.1, shape=shape)\n",
    "    return tf.Variable(initial)\n",
    "\n",
    "def conv2d(x, W):\n",
    "    return tf.nn.conv2d(x, W, strides=[1, 1, 1, 1], padding='SAME')\n",
    "\n",
    "def max_pool_2x2(x):\n",
    "    return tf.nn.max_pool(x, ksize=[1, 2, 2, 1], strides=[1, 2, 2, 1], padding='SAME')"
   ]
  },
  {
   "cell_type": "code",
   "execution_count": 26,
   "metadata": {
    "collapsed": false
   },
   "outputs": [],
   "source": [
    "reg_coeff = 1e-5\n",
    "num_steps = 10\n",
    "hl_size = 1024\n",
    "hl2_size = 300\n",
    "hl3_size = 50\n",
    "batch_size = 128\n",
    "\n",
    "graph = tf.Graph()\n",
    "with graph.as_default():\n",
    "\n",
    "    # Input data. For the training data, we use a placeholder that will be fed\n",
    "    # at run time with a training minibatch.\n",
    "    tf_train_dataset = tf.placeholder(tf.float32,\n",
    "                                    shape=(batch_size, image_size * image_size))\n",
    "    tf_train_labels = tf.placeholder(tf.float32, shape=(batch_size, num_labels))\n",
    "    tf_valid_dataset = tf.constant(valid_dataset)\n",
    "    tf_test_dataset = tf.constant(test_dataset)\n",
    "\n",
    "    #start with hidden layer random initialization of variables and biases with a low values\n",
    "    wh1 = weight_variable([image_size*image_size, hl_size])\n",
    "    bh1 = bias_variable([hl_size])\n",
    "\n",
    "    h1 = tf.nn.relu(tf.matmul(tf_train_dataset, wh1)+bh1)\n",
    "\n",
    "    wh2 = weight_variable([hl_size, hl2_size])\n",
    "    bh2 = bias_variable([hl2_size])\n",
    "\n",
    "    h2 = tf.nn.relu(tf.matmul(h1, wh2)+bh2)\n",
    "\n",
    "    keep_prob = tf.placeholder(tf.float32)\n",
    "    h_drop = tf.nn.dropout(h1, keep_prob)\n",
    "\n",
    "    # Variables output layer\n",
    "    wo = weight_variable([hl_size, num_labels])\n",
    "    bo = bias_variable([num_labels])\n",
    "\n",
    "    # Training computation output layer\n",
    "    logits = tf.matmul(h_drop, wo) + bo\n",
    "    loss = tf.reduce_mean(\n",
    "        tf.nn.softmax_cross_entropy_with_logits(logits, tf_train_labels)) \n",
    "\n",
    "    # L2 regularization for the fully connected parameters.\n",
    "    regularizers = (tf.nn.l2_loss(wh1) +\n",
    "                  tf.nn.l2_loss(wo))\n",
    "    \n",
    "    # Add the regularization term to the loss.\n",
    "    loss += reg_coeff * regularizers\n",
    "  \n",
    "    # Optimizer. (I let this one here because I have something wrong with AdamOptimizer)\n",
    "    optimizer = tf.train.GradientDescentOptimizer(0.5).minimize(loss)\n",
    "\n",
    "    # Predictions for the training, validation, and test data.\n",
    "    train_prediction = tf.nn.softmax(logits)\n",
    "    valid_prediction = tf.nn.softmax(\n",
    "        tf.matmul(tf.nn.relu(tf.matmul(tf_valid_dataset, wh1) + bh1),wo)+bo)\n",
    "    test_prediction = tf.nn.softmax(\n",
    "        tf.matmul(tf.nn.relu(tf.matmul(tf_test_dataset, wh1) + bh1),wo)+bo)"
   ]
  },
  {
   "cell_type": "code",
   "execution_count": 27,
   "metadata": {
    "collapsed": false
   },
   "outputs": [],
   "source": [
    "cross_entropy = -tf.reduce_sum(tf_train_labels*tf.log(train_prediction))\n",
    "#train_step = tf.train.AdamOptimizer(1e-4).minimize(cross_entropy)\n",
    "correct_prediction = tf.equal(tf.argmax(train_prediction,1), tf.argmax(tf_train_labels,1))\n",
    "#accuracy = tf.reduce_mean(tf.cast(correct_prediction, tf.float32))\n",
    "ct=tf.equal(tf.argmax(train_prediction,1), tf.argmax(tf_train_labels,1))\n",
    "\n",
    "def runit():\n",
    "    with tf.Session(graph=graph) as session:\n",
    "        # This is a one-time operation which ensures the parameters get initialized as\n",
    "        # we described in the graph: random weights for the matrix, zeros for the\n",
    "        # biases. \n",
    "        tf.initialize_all_variables().run()\n",
    "        print('Initialized')\n",
    "        for step in range(num_steps):\n",
    "            # Pick an offset within the training data, which has been randomized.\n",
    "            # Note: we could use better randomization across epochs.\n",
    "            offset = (step * batch_size) % (train_labels.shape[0] - batch_size)\n",
    "            # Generate a minibatch.\n",
    "            batch_data = train_dataset[offset:(offset + batch_size), :]\n",
    "            batch_labels = train_labels[offset:(offset + batch_size), :]\n",
    "            # Prepare a dictionary telling the session where to feed the minibatch.\n",
    "            # The key of the dictionary is the placeholder node of the graph to be fed,\n",
    "            # and the value is the numpy array to feed to it.\n",
    "            feed_dict = {tf_train_dataset : batch_data, \n",
    "                         tf_train_labels : batch_labels,\n",
    "                         keep_prob : 0.5}\n",
    "            _, l, predictions = session.run(\n",
    "                [optimizer, loss, train_prediction], feed_dict=feed_dict)\n",
    "            if (step % 100 == 0):\n",
    "                print('Loss at step %d: %f' % (step, l))\n",
    "                print('Training accuracy: %.1f%%' % accuracy(\n",
    "                        predictions, train_labels[:len(predictions), :]))\n",
    "                # Calling .eval() on valid_prediction is basically like calling run(), but\n",
    "                # just to get that one numpy array. Note that it recomputes all its graph\n",
    "                # dependencies.\n",
    "                print('Validation accuracy: %.1f%%' % accuracy(\n",
    "                        valid_prediction.eval(), valid_labels))\n",
    "\n",
    "        print('Test accuracy: %.1f%%' % accuracy(test_prediction.eval(), test_labels))"
   ]
  },
  {
   "cell_type": "code",
   "execution_count": 28,
   "metadata": {
    "collapsed": false
   },
   "outputs": [
    {
     "name": "stdout",
     "output_type": "stream",
     "text": [
      "Initialized\n",
      "Loss at step 0: 5.837964\n",
      "Training accuracy: 10.2%\n",
      "Validation accuracy: 27.9%\n",
      "Loss at step 100: 0.924507\n",
      "Training accuracy: 5.5%\n",
      "Validation accuracy: 81.5%\n",
      "Loss at step 200: 1.176839\n",
      "Training accuracy: 9.4%\n",
      "Validation accuracy: 80.8%\n",
      "Loss at step 300: 0.765717\n",
      "Training accuracy: 9.4%\n",
      "Validation accuracy: 82.9%\n",
      "Loss at step 400: 0.757294\n",
      "Training accuracy: 9.4%\n",
      "Validation accuracy: 83.6%\n",
      "Loss at step 500: 0.679253\n",
      "Training accuracy: 4.7%\n",
      "Validation accuracy: 83.8%\n",
      "Loss at step 600: 0.806305\n",
      "Training accuracy: 10.9%\n",
      "Validation accuracy: 84.1%\n",
      "Loss at step 700: 0.914794\n",
      "Training accuracy: 10.2%\n",
      "Validation accuracy: 84.6%\n",
      "Loss at step 800: 0.564084\n",
      "Training accuracy: 11.7%\n",
      "Validation accuracy: 84.7%\n",
      "Loss at step 900: 0.739369\n",
      "Training accuracy: 7.8%\n",
      "Validation accuracy: 84.9%\n",
      "Loss at step 1000: 0.815553\n",
      "Training accuracy: 6.2%\n",
      "Validation accuracy: 84.8%\n",
      "Loss at step 1100: 0.561938\n",
      "Training accuracy: 8.6%\n",
      "Validation accuracy: 85.4%\n",
      "Loss at step 1200: 0.530172\n",
      "Training accuracy: 6.2%\n",
      "Validation accuracy: 85.7%\n",
      "Loss at step 1300: 0.604785\n",
      "Training accuracy: 14.1%\n",
      "Validation accuracy: 84.8%\n",
      "Loss at step 1400: 0.438923\n",
      "Training accuracy: 10.9%\n",
      "Validation accuracy: 85.6%\n",
      "Loss at step 1500: 0.498354\n",
      "Training accuracy: 7.0%\n",
      "Validation accuracy: 85.9%\n",
      "Loss at step 1600: 0.657798\n",
      "Training accuracy: 10.9%\n",
      "Validation accuracy: 86.1%\n",
      "Loss at step 1700: 0.400159\n",
      "Training accuracy: 6.2%\n",
      "Validation accuracy: 86.5%\n",
      "Loss at step 1800: 0.564053\n",
      "Training accuracy: 7.8%\n",
      "Validation accuracy: 85.7%\n",
      "Loss at step 1900: 0.854807\n",
      "Training accuracy: 8.6%\n",
      "Validation accuracy: 86.1%\n",
      "Loss at step 2000: 0.409848\n",
      "Training accuracy: 7.8%\n",
      "Validation accuracy: 86.5%\n",
      "Loss at step 2100: 0.450467\n",
      "Training accuracy: 11.7%\n",
      "Validation accuracy: 86.8%\n",
      "Loss at step 2200: 0.761436\n",
      "Training accuracy: 7.0%\n",
      "Validation accuracy: 85.9%\n",
      "Loss at step 2300: 0.674751\n",
      "Training accuracy: 12.5%\n",
      "Validation accuracy: 86.5%\n",
      "Loss at step 2400: 0.576922\n",
      "Training accuracy: 10.2%\n",
      "Validation accuracy: 86.3%\n",
      "Loss at step 2500: 0.524774\n",
      "Training accuracy: 9.4%\n",
      "Validation accuracy: 86.5%\n",
      "Loss at step 2600: 0.785160\n",
      "Training accuracy: 10.9%\n",
      "Validation accuracy: 86.2%\n",
      "Loss at step 2700: 0.598599\n",
      "Training accuracy: 7.8%\n",
      "Validation accuracy: 87.2%\n",
      "Loss at step 2800: 0.596158\n",
      "Training accuracy: 13.3%\n",
      "Validation accuracy: 87.0%\n",
      "Loss at step 2900: 0.513725\n",
      "Training accuracy: 10.9%\n",
      "Validation accuracy: 86.9%\n",
      "Loss at step 3000: 0.504625\n",
      "Training accuracy: 11.7%\n",
      "Validation accuracy: 87.0%\n",
      "Test accuracy: 93.4%\n"
     ]
    }
   ],
   "source": [
    "num_steps = 3001\n",
    "hl_size = 1024\n",
    "batch_size = 128\n",
    "reg_coeff = 1E-5\n",
    "\n",
    "runit()"
   ]
  },
  {
   "cell_type": "markdown",
   "metadata": {
    "colab_type": "text",
    "id": "na8xX2yHZzNF"
   },
   "source": [
    "---\n",
    "Problem 2\n",
    "---------\n",
    "Let's demonstrate an extreme case of overfitting. Restrict your training data to just a few batches. What happens?\n",
    "\n",
    "---"
   ]
  },
  {
   "cell_type": "markdown",
   "metadata": {
    "colab_type": "text",
    "id": "ww3SCBUdlkRc"
   },
   "source": [
    "---\n",
    "Problem 3\n",
    "---------\n",
    "Introduce Dropout on the hidden layer of the neural network. Remember: Dropout should only be introduced during training, not evaluation, otherwise your evaluation results would be stochastic as well. TensorFlow provides `nn.dropout()` for that, but you have to make sure it's only inserted during training.\n",
    "\n",
    "What happens to our extreme overfitting case?\n",
    "\n",
    "---"
   ]
  },
  {
   "cell_type": "markdown",
   "metadata": {
    "colab_type": "text",
    "id": "-b1hTz3VWZjw"
   },
   "source": [
    "---\n",
    "Problem 4\n",
    "---------\n",
    "\n",
    "Try to get the best performance you can using a multi-layer model! The best reported test accuracy using a deep network is [97.1%](http://yaroslavvb.blogspot.com/2011/09/notmnist-dataset.html?showComment=1391023266211#c8758720086795711595).\n",
    "\n",
    "One avenue you can explore is to add multiple layers.\n",
    "\n",
    "Another one is to use learning rate decay:\n",
    "\n",
    "    global_step = tf.Variable(0)  # count the number of steps taken.\n",
    "    learning_rate = tf.train.exponential_decay(0.5, step, ...)\n",
    "    optimizer = tf.train.GradientDescentOptimizer(learning_rate).minimize(loss, global_step=global_step)\n",
    " \n",
    " ---\n"
   ]
  },
  {
   "cell_type": "code",
   "execution_count": null,
   "metadata": {
    "collapsed": true
   },
   "outputs": [],
   "source": []
  }
 ],
 "metadata": {
  "colab": {
   "default_view": {},
   "name": "3_regularization.ipynb",
   "provenance": [],
   "version": "0.3.2",
   "views": {}
  },
  "kernelspec": {
   "display_name": "Python 3",
   "language": "python",
   "name": "python3"
  },
  "language_info": {
   "codemirror_mode": {
    "name": "ipython",
    "version": 3
   },
   "file_extension": ".py",
   "mimetype": "text/x-python",
   "name": "python",
   "nbconvert_exporter": "python",
   "pygments_lexer": "ipython3",
   "version": "3.5.1"
  }
 },
 "nbformat": 4,
 "nbformat_minor": 0
}
